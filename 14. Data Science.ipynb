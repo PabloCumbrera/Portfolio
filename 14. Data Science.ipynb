{
 "cells": [
  {
   "cell_type": "markdown",
   "id": "homeless-quality",
   "metadata": {
    "id": "bA5ajAmk7XH6"
   },
   "source": [
    "# DataCamp Certification Case Study\n",
    "\n",
    "### Project Brief\n",
    "\n",
    "Congratulations, you have landed your first job as a data scientist at National Accessibility! National Accessibility currently installs wheelchair ramps for office buildings and schools. However, the marketing manager wants the company to start installing ramps for event venues as well. According to a new survey, approximately 40% of event venues are not wheelchair accessible. However, it is not easy to know whether a venue already has a ramp installed. \n",
    "\n",
    "The marketing manager would like to know whether you can develop a model to predict whether an event venue has a wheelchair ramp. To help you with this, he has provided you with a dataset of London venues. This data includes whether the venue has a ramp.\n",
    "\n",
    "It is a waste of time to contact venues that already have a ramp installed, and it also looks bad for the company. Therefore, it is especially important to exclude locations that already have a ramp. Ideally, at least two-thirds of venues predicted to be without a ramp should not have a ramp. \n",
    "\n",
    "You will need to present your findings in two formats:\n",
    "- First, you will need to present your findings to the marketing manager via a 10 minute oral presentation. The owner has no technical data science background. \n",
    "- You will also need to submit a technical report to your manager, who does have a strong technical data science background.\n",
    "\n",
    "The data you will use for this analysis can be accessed here: `\"data/event_venues.csv\"`"
   ]
  },
  {
   "cell_type": "code",
   "execution_count": 1,
   "id": "dramatic-hampshire",
   "metadata": {
    "scrolled": true
   },
   "outputs": [],
   "source": [
    "# Use this cell to begin, and add as many cells as you need to complete your analysis!\n"
   ]
  },
  {
   "cell_type": "markdown",
   "id": "a1b035f1-da29-430f-b9c4-85f434818d5e",
   "metadata": {},
   "source": [
    "##### Index\n",
    "1. Data Overview\n",
    "2. Exploratory Data Analysis\n",
    "3. Model Developement\n",
    "4. Outcomes"
   ]
  },
  {
   "cell_type": "markdown",
   "id": "52213018-1f0a-41de-b37a-ebce934fbb47",
   "metadata": {},
   "source": [
    "#### Data Overview\n",
    "___"
   ]
  },
  {
   "cell_type": "code",
   "execution_count": 2,
   "id": "59e3a610-ba9b-4fe9-9f99-3b0283bb2905",
   "metadata": {},
   "outputs": [
    {
     "name": "stderr",
     "output_type": "stream",
     "text": [
      "2022-02-01 16:22:39.373067: W tensorflow/stream_executor/platform/default/dso_loader.cc:60] Could not load dynamic library 'libcudart.so.11.0'; dlerror: libcudart.so.11.0: cannot open shared object file: No such file or directory\n",
      "2022-02-01 16:22:39.373100: I tensorflow/stream_executor/cuda/cudart_stub.cc:29] Ignore above cudart dlerror if you do not have a GPU set up on your machine.\n"
     ]
    }
   ],
   "source": [
    "# Libraries\n",
    "\n",
    "import pandas as pd\n",
    "import numpy as np\n",
    "import seaborn as sns\n",
    "import matplotlib.pyplot as plt\n",
    "from scipy import stats\n",
    "from sklearn.model_selection import train_test_split\n",
    "from sklearn import metrics\n",
    "import keras\n",
    "from keras.models import Sequential\n",
    "from keras.layers.core import Dense"
   ]
  },
  {
   "cell_type": "code",
   "execution_count": 3,
   "id": "b702c295-75e1-4469-8203-943f402de49b",
   "metadata": {},
   "outputs": [
    {
     "data": {
      "text/html": [
       "<div>\n",
       "<style scoped>\n",
       "    .dataframe tbody tr th:only-of-type {\n",
       "        vertical-align: middle;\n",
       "    }\n",
       "\n",
       "    .dataframe tbody tr th {\n",
       "        vertical-align: top;\n",
       "    }\n",
       "\n",
       "    .dataframe thead th {\n",
       "        text-align: right;\n",
       "    }\n",
       "</style>\n",
       "<table border=\"1\" class=\"dataframe\">\n",
       "  <thead>\n",
       "    <tr style=\"text-align: right;\">\n",
       "      <th></th>\n",
       "      <th>venue_name</th>\n",
       "      <th>Loud music / events</th>\n",
       "      <th>Venue provides alcohol</th>\n",
       "      <th>Wi-Fi</th>\n",
       "      <th>supervenue</th>\n",
       "      <th>U-Shaped_max</th>\n",
       "      <th>max_standing</th>\n",
       "      <th>Theatre_max</th>\n",
       "      <th>Promoted / ticketed events</th>\n",
       "      <th>Wheelchair accessible</th>\n",
       "    </tr>\n",
       "  </thead>\n",
       "  <tbody>\n",
       "    <tr>\n",
       "      <th>0</th>\n",
       "      <td>techspace aldgate east</td>\n",
       "      <td>False</td>\n",
       "      <td>0</td>\n",
       "      <td>True</td>\n",
       "      <td>False</td>\n",
       "      <td>35.045455</td>\n",
       "      <td>0</td>\n",
       "      <td>112.715867</td>\n",
       "      <td>False</td>\n",
       "      <td>False</td>\n",
       "    </tr>\n",
       "    <tr>\n",
       "      <th>1</th>\n",
       "      <td>green rooms hotel</td>\n",
       "      <td>True</td>\n",
       "      <td>1</td>\n",
       "      <td>True</td>\n",
       "      <td>False</td>\n",
       "      <td>40.000000</td>\n",
       "      <td>120</td>\n",
       "      <td>80.000000</td>\n",
       "      <td>True</td>\n",
       "      <td>False</td>\n",
       "    </tr>\n",
       "    <tr>\n",
       "      <th>2</th>\n",
       "      <td>148 leadenhall street</td>\n",
       "      <td>False</td>\n",
       "      <td>0</td>\n",
       "      <td>True</td>\n",
       "      <td>False</td>\n",
       "      <td>35.045455</td>\n",
       "      <td>0</td>\n",
       "      <td>112.715867</td>\n",
       "      <td>False</td>\n",
       "      <td>False</td>\n",
       "    </tr>\n",
       "    <tr>\n",
       "      <th>3</th>\n",
       "      <td>conway hall</td>\n",
       "      <td>False</td>\n",
       "      <td>0</td>\n",
       "      <td>True</td>\n",
       "      <td>False</td>\n",
       "      <td>35.045455</td>\n",
       "      <td>60</td>\n",
       "      <td>60.000000</td>\n",
       "      <td>False</td>\n",
       "      <td>False</td>\n",
       "    </tr>\n",
       "    <tr>\n",
       "      <th>4</th>\n",
       "      <td>gridiron building</td>\n",
       "      <td>False</td>\n",
       "      <td>0</td>\n",
       "      <td>True</td>\n",
       "      <td>False</td>\n",
       "      <td>35.045455</td>\n",
       "      <td>0</td>\n",
       "      <td>112.715867</td>\n",
       "      <td>False</td>\n",
       "      <td>False</td>\n",
       "    </tr>\n",
       "    <tr>\n",
       "      <th>5</th>\n",
       "      <td>kimpton fitzroy london</td>\n",
       "      <td>True</td>\n",
       "      <td>1</td>\n",
       "      <td>True</td>\n",
       "      <td>False</td>\n",
       "      <td>6.000000</td>\n",
       "      <td>0</td>\n",
       "      <td>112.715867</td>\n",
       "      <td>True</td>\n",
       "      <td>False</td>\n",
       "    </tr>\n",
       "    <tr>\n",
       "      <th>6</th>\n",
       "      <td>lloyds avenue</td>\n",
       "      <td>False</td>\n",
       "      <td>0</td>\n",
       "      <td>True</td>\n",
       "      <td>False</td>\n",
       "      <td>35.045455</td>\n",
       "      <td>0</td>\n",
       "      <td>112.715867</td>\n",
       "      <td>False</td>\n",
       "      <td>False</td>\n",
       "    </tr>\n",
       "    <tr>\n",
       "      <th>7</th>\n",
       "      <td>public space | members-style bar &amp; dining</td>\n",
       "      <td>True</td>\n",
       "      <td>1</td>\n",
       "      <td>True</td>\n",
       "      <td>False</td>\n",
       "      <td>35.045455</td>\n",
       "      <td>200</td>\n",
       "      <td>112.715867</td>\n",
       "      <td>False</td>\n",
       "      <td>False</td>\n",
       "    </tr>\n",
       "    <tr>\n",
       "      <th>8</th>\n",
       "      <td>16 old queen street</td>\n",
       "      <td>False</td>\n",
       "      <td>0</td>\n",
       "      <td>True</td>\n",
       "      <td>False</td>\n",
       "      <td>35.045455</td>\n",
       "      <td>0</td>\n",
       "      <td>112.715867</td>\n",
       "      <td>False</td>\n",
       "      <td>False</td>\n",
       "    </tr>\n",
       "    <tr>\n",
       "      <th>9</th>\n",
       "      <td>siorai bar</td>\n",
       "      <td>True</td>\n",
       "      <td>1</td>\n",
       "      <td>True</td>\n",
       "      <td>False</td>\n",
       "      <td>35.045455</td>\n",
       "      <td>180</td>\n",
       "      <td>20.000000</td>\n",
       "      <td>True</td>\n",
       "      <td>False</td>\n",
       "    </tr>\n",
       "  </tbody>\n",
       "</table>\n",
       "</div>"
      ],
      "text/plain": [
       "                                  venue_name  Loud music / events  \\\n",
       "0                     techspace aldgate east                False   \n",
       "1                          green rooms hotel                 True   \n",
       "2                      148 leadenhall street                False   \n",
       "3                                conway hall                False   \n",
       "4                          gridiron building                False   \n",
       "5                     kimpton fitzroy london                 True   \n",
       "6                              lloyds avenue                False   \n",
       "7  public space | members-style bar & dining                 True   \n",
       "8                        16 old queen street                False   \n",
       "9                                 siorai bar                 True   \n",
       "\n",
       "   Venue provides alcohol  Wi-Fi  supervenue  U-Shaped_max  max_standing  \\\n",
       "0                       0   True       False     35.045455             0   \n",
       "1                       1   True       False     40.000000           120   \n",
       "2                       0   True       False     35.045455             0   \n",
       "3                       0   True       False     35.045455            60   \n",
       "4                       0   True       False     35.045455             0   \n",
       "5                       1   True       False      6.000000             0   \n",
       "6                       0   True       False     35.045455             0   \n",
       "7                       1   True       False     35.045455           200   \n",
       "8                       0   True       False     35.045455             0   \n",
       "9                       1   True       False     35.045455           180   \n",
       "\n",
       "   Theatre_max  Promoted / ticketed events  Wheelchair accessible  \n",
       "0   112.715867                       False                  False  \n",
       "1    80.000000                        True                  False  \n",
       "2   112.715867                       False                  False  \n",
       "3    60.000000                       False                  False  \n",
       "4   112.715867                       False                  False  \n",
       "5   112.715867                        True                  False  \n",
       "6   112.715867                       False                  False  \n",
       "7   112.715867                       False                  False  \n",
       "8   112.715867                       False                  False  \n",
       "9    20.000000                        True                  False  "
      ]
     },
     "execution_count": 3,
     "metadata": {},
     "output_type": "execute_result"
    }
   ],
   "source": [
    "# Data Overview\n",
    "\n",
    "df = pd.read_csv(\"data/event_venues.csv\")\n",
    "df.head(10)"
   ]
  },
  {
   "cell_type": "code",
   "execution_count": 4,
   "id": "bc81a16b-b939-4fe5-87ae-d095d0f65f30",
   "metadata": {},
   "outputs": [
    {
     "data": {
      "text/html": [
       "<div>\n",
       "<style scoped>\n",
       "    .dataframe tbody tr th:only-of-type {\n",
       "        vertical-align: middle;\n",
       "    }\n",
       "\n",
       "    .dataframe tbody tr th {\n",
       "        vertical-align: top;\n",
       "    }\n",
       "\n",
       "    .dataframe thead th {\n",
       "        text-align: right;\n",
       "    }\n",
       "</style>\n",
       "<table border=\"1\" class=\"dataframe\">\n",
       "  <thead>\n",
       "    <tr style=\"text-align: right;\">\n",
       "      <th></th>\n",
       "      <th>venue_name</th>\n",
       "      <th>Loud music / events</th>\n",
       "      <th>Venue provides alcohol</th>\n",
       "      <th>Wi-Fi</th>\n",
       "      <th>supervenue</th>\n",
       "      <th>U-Shaped_max</th>\n",
       "      <th>max_standing</th>\n",
       "      <th>Theatre_max</th>\n",
       "      <th>Promoted / ticketed events</th>\n",
       "      <th>Wheelchair accessible</th>\n",
       "    </tr>\n",
       "  </thead>\n",
       "  <tbody>\n",
       "    <tr>\n",
       "      <th>0</th>\n",
       "      <td>techspace aldgate east</td>\n",
       "      <td>0</td>\n",
       "      <td>0</td>\n",
       "      <td>1</td>\n",
       "      <td>0</td>\n",
       "      <td>35.045455</td>\n",
       "      <td>0</td>\n",
       "      <td>112.715867</td>\n",
       "      <td>0</td>\n",
       "      <td>0</td>\n",
       "    </tr>\n",
       "    <tr>\n",
       "      <th>1</th>\n",
       "      <td>green rooms hotel</td>\n",
       "      <td>1</td>\n",
       "      <td>1</td>\n",
       "      <td>1</td>\n",
       "      <td>0</td>\n",
       "      <td>40.000000</td>\n",
       "      <td>120</td>\n",
       "      <td>80.000000</td>\n",
       "      <td>1</td>\n",
       "      <td>0</td>\n",
       "    </tr>\n",
       "    <tr>\n",
       "      <th>2</th>\n",
       "      <td>148 leadenhall street</td>\n",
       "      <td>0</td>\n",
       "      <td>0</td>\n",
       "      <td>1</td>\n",
       "      <td>0</td>\n",
       "      <td>35.045455</td>\n",
       "      <td>0</td>\n",
       "      <td>112.715867</td>\n",
       "      <td>0</td>\n",
       "      <td>0</td>\n",
       "    </tr>\n",
       "    <tr>\n",
       "      <th>3</th>\n",
       "      <td>conway hall</td>\n",
       "      <td>0</td>\n",
       "      <td>0</td>\n",
       "      <td>1</td>\n",
       "      <td>0</td>\n",
       "      <td>35.045455</td>\n",
       "      <td>60</td>\n",
       "      <td>60.000000</td>\n",
       "      <td>0</td>\n",
       "      <td>0</td>\n",
       "    </tr>\n",
       "    <tr>\n",
       "      <th>4</th>\n",
       "      <td>gridiron building</td>\n",
       "      <td>0</td>\n",
       "      <td>0</td>\n",
       "      <td>1</td>\n",
       "      <td>0</td>\n",
       "      <td>35.045455</td>\n",
       "      <td>0</td>\n",
       "      <td>112.715867</td>\n",
       "      <td>0</td>\n",
       "      <td>0</td>\n",
       "    </tr>\n",
       "    <tr>\n",
       "      <th>...</th>\n",
       "      <td>...</td>\n",
       "      <td>...</td>\n",
       "      <td>...</td>\n",
       "      <td>...</td>\n",
       "      <td>...</td>\n",
       "      <td>...</td>\n",
       "      <td>...</td>\n",
       "      <td>...</td>\n",
       "      <td>...</td>\n",
       "      <td>...</td>\n",
       "    </tr>\n",
       "    <tr>\n",
       "      <th>3905</th>\n",
       "      <td>the hurlingham club</td>\n",
       "      <td>1</td>\n",
       "      <td>1</td>\n",
       "      <td>1</td>\n",
       "      <td>0</td>\n",
       "      <td>40.000000</td>\n",
       "      <td>450</td>\n",
       "      <td>450.000000</td>\n",
       "      <td>0</td>\n",
       "      <td>1</td>\n",
       "    </tr>\n",
       "    <tr>\n",
       "      <th>3906</th>\n",
       "      <td>landmark - aldgate, london</td>\n",
       "      <td>0</td>\n",
       "      <td>0</td>\n",
       "      <td>1</td>\n",
       "      <td>0</td>\n",
       "      <td>28.000000</td>\n",
       "      <td>0</td>\n",
       "      <td>28.000000</td>\n",
       "      <td>0</td>\n",
       "      <td>1</td>\n",
       "    </tr>\n",
       "    <tr>\n",
       "      <th>3907</th>\n",
       "      <td>ortus conference and events venue</td>\n",
       "      <td>0</td>\n",
       "      <td>1</td>\n",
       "      <td>1</td>\n",
       "      <td>0</td>\n",
       "      <td>13.000000</td>\n",
       "      <td>20</td>\n",
       "      <td>20.000000</td>\n",
       "      <td>0</td>\n",
       "      <td>1</td>\n",
       "    </tr>\n",
       "    <tr>\n",
       "      <th>3908</th>\n",
       "      <td>30 euston square</td>\n",
       "      <td>0</td>\n",
       "      <td>1</td>\n",
       "      <td>1</td>\n",
       "      <td>0</td>\n",
       "      <td>8.000000</td>\n",
       "      <td>20</td>\n",
       "      <td>20.000000</td>\n",
       "      <td>0</td>\n",
       "      <td>1</td>\n",
       "    </tr>\n",
       "    <tr>\n",
       "      <th>3909</th>\n",
       "      <td>broadway house</td>\n",
       "      <td>0</td>\n",
       "      <td>0</td>\n",
       "      <td>1</td>\n",
       "      <td>0</td>\n",
       "      <td>28.000000</td>\n",
       "      <td>0</td>\n",
       "      <td>100.000000</td>\n",
       "      <td>0</td>\n",
       "      <td>1</td>\n",
       "    </tr>\n",
       "  </tbody>\n",
       "</table>\n",
       "<p>3910 rows × 10 columns</p>\n",
       "</div>"
      ],
      "text/plain": [
       "                             venue_name  Loud music / events  \\\n",
       "0                techspace aldgate east                    0   \n",
       "1                     green rooms hotel                    1   \n",
       "2                 148 leadenhall street                    0   \n",
       "3                           conway hall                    0   \n",
       "4                     gridiron building                    0   \n",
       "...                                 ...                  ...   \n",
       "3905                the hurlingham club                    1   \n",
       "3906         landmark - aldgate, london                    0   \n",
       "3907  ortus conference and events venue                    0   \n",
       "3908                   30 euston square                    0   \n",
       "3909                     broadway house                    0   \n",
       "\n",
       "      Venue provides alcohol  Wi-Fi  supervenue  U-Shaped_max  max_standing  \\\n",
       "0                          0      1           0     35.045455             0   \n",
       "1                          1      1           0     40.000000           120   \n",
       "2                          0      1           0     35.045455             0   \n",
       "3                          0      1           0     35.045455            60   \n",
       "4                          0      1           0     35.045455             0   \n",
       "...                      ...    ...         ...           ...           ...   \n",
       "3905                       1      1           0     40.000000           450   \n",
       "3906                       0      1           0     28.000000             0   \n",
       "3907                       1      1           0     13.000000            20   \n",
       "3908                       1      1           0      8.000000            20   \n",
       "3909                       0      1           0     28.000000             0   \n",
       "\n",
       "      Theatre_max  Promoted / ticketed events  Wheelchair accessible  \n",
       "0      112.715867                           0                      0  \n",
       "1       80.000000                           1                      0  \n",
       "2      112.715867                           0                      0  \n",
       "3       60.000000                           0                      0  \n",
       "4      112.715867                           0                      0  \n",
       "...           ...                         ...                    ...  \n",
       "3905   450.000000                           0                      1  \n",
       "3906    28.000000                           0                      1  \n",
       "3907    20.000000                           0                      1  \n",
       "3908    20.000000                           0                      1  \n",
       "3909   100.000000                           0                      1  \n",
       "\n",
       "[3910 rows x 10 columns]"
      ]
     },
     "execution_count": 4,
     "metadata": {},
     "output_type": "execute_result"
    }
   ],
   "source": [
    "# Clean Bool format so process\n",
    "\n",
    "def bool_mapper (df, column):\n",
    "    df[column] = df[column].map({True: 1,False: 0})\n",
    "    return df\n",
    "\n",
    "bool_mapper (df, 'supervenue')\n",
    "bool_mapper (df, 'Loud music / events')\n",
    "bool_mapper (df, 'Promoted / ticketed events')\n",
    "bool_mapper (df, 'Wheelchair accessible')\n",
    "bool_mapper (df, 'Wi-Fi')"
   ]
  },
  {
   "cell_type": "markdown",
   "id": "fc33e2f7-cdac-48ea-85c7-697d737403bd",
   "metadata": {},
   "source": [
    "##### Train - test split"
   ]
  },
  {
   "cell_type": "code",
   "execution_count": 5,
   "id": "ddd69353-e462-45a4-9f1c-71ceaebbc4ea",
   "metadata": {},
   "outputs": [
    {
     "name": "stdout",
     "output_type": "stream",
     "text": [
      "X_train data set lenght: 2619\n",
      "X_test data set lenght: 1291\n",
      "y_train data set lenght: 2619\n",
      "y_test data set lenght: 1291\n"
     ]
    }
   ],
   "source": [
    "# Split X, y\n",
    "\n",
    "X = df.drop(['Wheelchair accessible', 'venue_name'], axis = 1)\n",
    "y = df['Wheelchair accessible']\n",
    "\n",
    "# Split train test set\n",
    "X_train, X_test, y_train, y_test = train_test_split(X, y, test_size=0.33, random_state=42)\n",
    "\n",
    "# Dataset Merged for exploration\n",
    "X['Wheelchair'] = y\n",
    "data = X.copy()\n",
    "\n",
    "# Print\n",
    "print ('X_train data set lenght:', len(X_train))\n",
    "print ('X_test data set lenght:', len(X_test))\n",
    "print ('y_train data set lenght:', len(y_train))\n",
    "print ('y_test data set lenght:', len(y_test))"
   ]
  },
  {
   "cell_type": "markdown",
   "id": "6b2cf161-37d5-435e-8708-96ae4f71538f",
   "metadata": {},
   "source": [
    "#### Exploratory Data Analysis\n",
    "___"
   ]
  },
  {
   "cell_type": "markdown",
   "id": "c8110415-12ca-4a4e-aedb-6377b9e7b2f2",
   "metadata": {},
   "source": [
    "Exploratory data analysis (EDA) is used by data scientists to analyze and investigate data sets and summarize their main characteristics, often employing data visualization methods. It helps determine how best to manipulate data sources to get the answers you need, making it easier for data scientists to discover patterns, spot anomalies, test a hypothesis, or check assumptions.\n",
    "\n",
    "EDA is primarily used to see what data can reveal beyond the formal modeling or hypothesis testing task and provides a provides a better understanding of data set variables and the relationships between them. It can also help determine if the statistical techniques you are considering for data analysis are appropriate."
   ]
  },
  {
   "cell_type": "markdown",
   "id": "573a872c-fdfd-49b6-a567-522581d17a7a",
   "metadata": {},
   "source": [
    "##### Data Composition"
   ]
  },
  {
   "cell_type": "code",
   "execution_count": 6,
   "id": "b47a58cf-2a30-4c44-b811-31511bbb7d42",
   "metadata": {},
   "outputs": [
    {
     "data": {
      "image/png": "[encoded data removed]",
      "text/plain": [
       "<Figure size 576x432 with 1 Axes>"
      ]
     },
     "metadata": {},
     "output_type": "display_data"
    }
   ],
   "source": [
    "# Wheelchair access\n",
    "sns.set_style('whitegrid')\n",
    "\n",
    "# Declare axes\n",
    "figg = plt.figure(figsize = (8, 6), constrained_layout = True)\n",
    "ax = figg.subplots()\n",
    "\n",
    "# Values\n",
    "\n",
    "def plot_bars (col):\n",
    "    return plt.bar(data['Wheelchair'][data['Wheelchair']==col ], height = data['Wheelchair'].value_counts() [col] )\n",
    "\n",
    "plot_bars(1)\n",
    "plot_bars(0)\n",
    "\n",
    "# Parametres\n",
    "plt.xticks(np.arange(250,2500,500))\n",
    "plt.yticks(np.arange(0,2500,500))\n",
    "plt.xlabel(\"Wheelchair Ramp\", fontsize = 14)\n",
    "plt.ylabel(\"Number of Samples\", fontsize = 14)\n",
    "plt.hlines(1955, -0.4, 1.4, linestyles = 'dashed')\n",
    "plt.annotate('1955',(-0.3,1975), size = 12)\n",
    "plt.title('Data Composition - Wheelchair Ramps', fontsize = 14)\n",
    "plt.legend(['Number of samples','Do have a ramp','Do Not have a ramp'], loc = 3, fontsize = 12)\n",
    "\n",
    "# Show\n",
    "plt.show()"
   ]
  },
  {
   "cell_type": "markdown",
   "id": "28cca833-d4d7-49b9-936c-55bc4554ce05",
   "metadata": {},
   "source": [
    "Our data set has the same numbers of samples that compose the sample are similar for both cases (1955)"
   ]
  },
  {
   "cell_type": "markdown",
   "id": "14ba173c-794a-4351-87e3-3d6a05656b96",
   "metadata": {},
   "source": [
    "##### Understanding the data set - Variable correlations"
   ]
  },
  {
   "cell_type": "code",
   "execution_count": 7,
   "id": "9d3d1eb9-a9b9-4fca-b99e-6e93e90c9af6",
   "metadata": {},
   "outputs": [
    {
     "name": "stdout",
     "output_type": "stream",
     "text": [
      "Wheelchair ramp correlation: \n",
      "\n",
      "Wheelchair                    1.000000\n",
      "Promoted / ticketed events    0.162369\n",
      "Venue provides alcohol        0.138560\n",
      "max_standing                  0.137144\n",
      "Theatre_max                   0.091873\n",
      "Wi-Fi                         0.083875\n",
      "Loud music / events           0.043190\n",
      "U-Shaped_max                  0.024257\n",
      "supervenue                   -0.101503\n",
      "Name: Wheelchair, dtype: float64\n"
     ]
    }
   ],
   "source": [
    "# Correlation matrix\n",
    "corr_matrix = data.corr()\n",
    "\n",
    "# print\n",
    "print(\"Wheelchair ramp correlation: \\n\")\n",
    "print(corr_matrix[\"Wheelchair\"].sort_values(ascending=False))"
   ]
  },
  {
   "cell_type": "markdown",
   "id": "ecab8230-3607-4416-8ca7-c9b5ca6be98a",
   "metadata": {},
   "source": [
    "According to this data, variables which seems to be predictor are **Promoted / ticketed events** (0.16), **Venue provides alcohol** (0.13), **max_standing**  (0.137), and having a negative correlation, **supervenue** (-0.1)."
   ]
  },
  {
   "cell_type": "markdown",
   "id": "1850674f-459c-4b9d-a5dc-e3dfd81e103e",
   "metadata": {},
   "source": [
    "A table showing the overall wheelchain ramp correlation within each variable is set out below:"
   ]
  },
  {
   "cell_type": "code",
   "execution_count": 8,
   "id": "9071d1cb-4f73-4792-821f-234902f5ff1b",
   "metadata": {},
   "outputs": [
    {
     "data": {
      "image/png": "[encoded data removed]",
      "text/plain": [
       "<Figure size 864x432 with 2 Axes>"
      ]
     },
     "metadata": {},
     "output_type": "display_data"
    }
   ],
   "source": [
    "# Heatmap\n",
    "figg = plt.figure(figsize = (12,6), constrained_layout = True)\n",
    "ax = figg.subplots()\n",
    "\n",
    "# For cleaner index and ticks\n",
    "df_heat = df.copy()\n",
    "\n",
    "# Plot Corpus\n",
    "upp_mat = np.triu(df.corr())\n",
    "\n",
    "sns.heatmap(df_heat.corr(), vmin = -1, vmax = +1, annot = True,\n",
    "            cmap = \"coolwarm\",annot_kws = {'size':14}, mask = upp_mat)\n",
    "\n",
    "# Appareance\n",
    "plt.title(\"Data Variable Correlation Overview\", fontsize = 18)\n",
    "plt.ylabel(\"Variables\", fontsize = 14)\n",
    "plt.yticks(fontsize = 12)\n",
    "plt.xlabel(\"Correlation Coeficient (from 0 to 1)\", fontsize = 14)\n",
    "plt.xticks(rotation = 90, fontsize = 12)\n",
    "\n",
    "# Show\n",
    "plt.show()"
   ]
  },
  {
   "cell_type": "markdown",
   "id": "33a955b1-19c2-4bd2-a4a1-c4553fefda16",
   "metadata": {},
   "source": [
    "##### Correlation p-significance"
   ]
  },
  {
   "cell_type": "code",
   "execution_count": 9,
   "id": "55738683-9994-4de9-9fe5-f1a9db7a332e",
   "metadata": {},
   "outputs": [
    {
     "name": "stdout",
     "output_type": "stream",
     "text": [
      "Variable Venue provides alcohol p value:  3.2202991977858834e-18\n",
      "Variable Wi-Fi p value:  1.5022795683491803e-07\n",
      "Variable supervenue p value:  1.9991616526903284e-10\n",
      "Variable U-Shaped_max p value:  0.1293853790383352\n",
      "Variable max_standing p value:  7.078254512588652e-18\n",
      "Variable Theatre_max p value:  8.655567380058508e-09\n",
      "Variable Promoted / ticketed events p value:  1.6549428075424375e-24\n"
     ]
    }
   ],
   "source": [
    "# p-value \n",
    "p_list = []\n",
    "\n",
    "def p_value_wchair(cols):\n",
    "    for col in cols:\n",
    "        r, p = stats.pearsonr(data['Wheelchair'], data[col])\n",
    "        p_list.append( p )\n",
    "        print('Variable', col, 'p value: ', p)\n",
    "        \n",
    "p_value_wchair(data.columns[1:-1])"
   ]
  },
  {
   "cell_type": "markdown",
   "id": "84773a8c-c3b2-4d52-b463-2044ff402b47",
   "metadata": {},
   "source": [
    "A table showing the overall p-correlation within each variable is set out below:"
   ]
  },
  {
   "cell_type": "code",
   "execution_count": 10,
   "id": "114ae1b6-c364-459c-9fe6-9f4fe864bfbd",
   "metadata": {},
   "outputs": [
    {
     "data": {
      "text/plain": [
       "[]"
      ]
     },
     "execution_count": 10,
     "metadata": {},
     "output_type": "execute_result"
    },
    {
     "data": {
      "image/png": "[encoded data removed]",
      "text/plain": [
       "<Figure size 576x432 with 1 Axes>"
      ]
     },
     "metadata": {},
     "output_type": "display_data"
    }
   ],
   "source": [
    "# Declare axes\n",
    "figg = plt.figure(figsize = (8, 6), constrained_layout = True)\n",
    "ax = figg.subplots()\n",
    "\n",
    "# corpus\n",
    "plt.plot(p_list)\n",
    "plt.scatter(data.columns[1:-1], p_list, color = 'r', zorder = 2)\n",
    "\n",
    "\n",
    "# lines\n",
    "plt.hlines(0.05, -0.1, 7, linestyles = 'dashed', color = 'black')\n",
    "plt.annotate('Significance level (0.05)',(-0.1,0.06), size = 12)\n",
    "\n",
    "# params\n",
    "plt.title(\"P-significance values\", fontsize = 14)\n",
    "plt.xticks(range(0,len(data.columns[1:-1])), data.columns[1:-1], rotation = 90, fontsize = 12)\n",
    "plt.ylabel(\"p-value\", fontsize = 12)\n",
    "plt.xlabel(\"Variables\", fontsize = 12)\n",
    "\n",
    "# plot\n",
    "plt.plot()"
   ]
  },
  {
   "cell_type": "markdown",
   "id": "a057b5a3-7720-458f-9ef2-1e842c640563",
   "metadata": {},
   "source": [
    "According to p-value, all variables except 'U-shaped_max' are **significatly correlated** to the target variable."
   ]
  },
  {
   "cell_type": "code",
   "execution_count": 11,
   "id": "1cae36c4-c91c-443d-abf4-103077ea4c41",
   "metadata": {},
   "outputs": [],
   "source": [
    "# Drop the uncorrelated variable\n",
    "X_train = X_train.drop(['U-Shaped_max'], axis=1)\n",
    "X_test = X_test.drop(['U-Shaped_max'], axis=1)"
   ]
  },
  {
   "cell_type": "markdown",
   "id": "bfac563a-50db-4179-a719-8c20fb756044",
   "metadata": {},
   "source": [
    "#### Model Developement\n",
    "___"
   ]
  },
  {
   "cell_type": "markdown",
   "id": "be4ebcb6-adc4-43c5-973b-2d195b8bc4d9",
   "metadata": {},
   "source": [
    "##### Neural Network"
   ]
  },
  {
   "cell_type": "markdown",
   "id": "e79a95d8-73d7-41e9-9fb5-7a7b60415f28",
   "metadata": {},
   "source": [
    "A neural network is a series of algorithms that endeavors to recognize underlying relationships in a set of data through a process that mimics the way the human brain operates."
   ]
  },
  {
   "cell_type": "code",
   "execution_count": 12,
   "id": "fccf2ca6-d9e8-4ee2-9c49-0197d462a756",
   "metadata": {},
   "outputs": [
    {
     "name": "stderr",
     "output_type": "stream",
     "text": [
      "2022-02-01 16:22:49.425734: I tensorflow/compiler/jit/xla_cpu_device.cc:41] Not creating XLA devices, tf_xla_enable_xla_devices not set\n",
      "2022-02-01 16:22:49.426007: W tensorflow/stream_executor/platform/default/dso_loader.cc:60] Could not load dynamic library 'libcuda.so.1'; dlerror: libcuda.so.1: cannot open shared object file: No such file or directory\n",
      "2022-02-01 16:22:49.426026: W tensorflow/stream_executor/cuda/cuda_driver.cc:326] failed call to cuInit: UNKNOWN ERROR (303)\n",
      "2022-02-01 16:22:49.426065: I tensorflow/stream_executor/cuda/cuda_diagnostics.cc:156] kernel driver does not appear to be running on this host (0257d9e8-2280-40ff-82af-d5fa5008f2b2): /proc/driver/nvidia/version does not exist\n",
      "2022-02-01 16:22:49.426343: I tensorflow/core/platform/cpu_feature_guard.cc:142] This TensorFlow binary is optimized with oneAPI Deep Neural Network Library (oneDNN) to use the following CPU instructions in performance-critical operations:  AVX2 AVX512F FMA\n",
      "To enable them in other operations, rebuild TensorFlow with the appropriate compiler flags.\n",
      "2022-02-01 16:22:49.427483: I tensorflow/compiler/jit/xla_gpu_device.cc:99] Not creating XLA devices, tf_xla_enable_xla_devices not set\n"
     ]
    }
   ],
   "source": [
    "# Neural Network\n",
    "\n",
    "model = Sequential()\n",
    "model.add(Dense(32, input_dim=7, activation='relu'))\n",
    "model.add(Dense(16, activation='sigmoid'))\n",
    "model.add(Dense(8, activation='sigmoid'))\n",
    "model.add(Dense(1, activation='sigmoid'))"
   ]
  },
  {
   "cell_type": "code",
   "execution_count": 13,
   "id": "3050cc6e-ca03-4e8c-ae38-bf91c5d6ed09",
   "metadata": {},
   "outputs": [],
   "source": [
    "# Model compilation\n",
    "model.compile(loss='mean_squared_error',\n",
    "              optimizer='adam',\n",
    "              metrics=['binary_accuracy'])"
   ]
  },
  {
   "cell_type": "code",
   "execution_count": 14,
   "id": "7d983dd0-7a5a-4016-b088-02709475e2a5",
   "metadata": {},
   "outputs": [
    {
     "name": "stderr",
     "output_type": "stream",
     "text": [
      "2022-02-01 16:22:49.508497: I tensorflow/compiler/mlir/mlir_graph_optimization_pass.cc:116] None of the MLIR optimization passes are enabled (registered 2)\n",
      "2022-02-01 16:22:49.508963: I tensorflow/core/platform/profile_utils/cpu_utils.cc:112] CPU Frequency: 2499995000 Hz\n"
     ]
    },
    {
     "name": "stdout",
     "output_type": "stream",
     "text": [
      "Epoch 1/25\n",
      "82/82 [==============================] - 0s 844us/step - loss: 0.2565 - binary_accuracy: 0.5302\n",
      "Epoch 2/25\n",
      "82/82 [==============================] - 0s 1ms/step - loss: 0.2392 - binary_accuracy: 0.6133\n",
      "Epoch 3/25\n",
      "82/82 [==============================] - 0s 1ms/step - loss: 0.2370 - binary_accuracy: 0.6132\n",
      "Epoch 4/25\n",
      "82/82 [==============================] - 0s 1ms/step - loss: 0.2363 - binary_accuracy: 0.6142\n",
      "Epoch 5/25\n",
      "82/82 [==============================] - 0s 1ms/step - loss: 0.2379 - binary_accuracy: 0.6042\n",
      "Epoch 6/25\n",
      "82/82 [==============================] - 0s 1ms/step - loss: 0.2341 - binary_accuracy: 0.6269\n",
      "Epoch 7/25\n",
      "82/82 [==============================] - 0s 779us/step - loss: 0.2360 - binary_accuracy: 0.6089\n",
      "Epoch 8/25\n",
      "82/82 [==============================] - 0s 731us/step - loss: 0.2328 - binary_accuracy: 0.6302\n",
      "Epoch 9/25\n",
      "82/82 [==============================] - 0s 959us/step - loss: 0.2361 - binary_accuracy: 0.6192\n",
      "Epoch 10/25\n",
      "82/82 [==============================] - 0s 1ms/step - loss: 0.2328 - binary_accuracy: 0.6212\n",
      "Epoch 11/25\n",
      "82/82 [==============================] - 0s 1ms/step - loss: 0.2366 - binary_accuracy: 0.6147\n",
      "Epoch 12/25\n",
      "82/82 [==============================] - 0s 830us/step - loss: 0.2324 - binary_accuracy: 0.6289\n",
      "Epoch 13/25\n",
      "82/82 [==============================] - 0s 768us/step - loss: 0.2319 - binary_accuracy: 0.6320\n",
      "Epoch 14/25\n",
      "82/82 [==============================] - 0s 937us/step - loss: 0.2303 - binary_accuracy: 0.6330\n",
      "Epoch 15/25\n",
      "82/82 [==============================] - 0s 957us/step - loss: 0.2301 - binary_accuracy: 0.6337\n",
      "Epoch 16/25\n",
      "82/82 [==============================] - 0s 746us/step - loss: 0.2331 - binary_accuracy: 0.6276\n",
      "Epoch 17/25\n",
      "82/82 [==============================] - 0s 764us/step - loss: 0.2359 - binary_accuracy: 0.6181\n",
      "Epoch 18/25\n",
      "82/82 [==============================] - 0s 919us/step - loss: 0.2336 - binary_accuracy: 0.6196\n",
      "Epoch 19/25\n",
      "82/82 [==============================] - 0s 897us/step - loss: 0.2409 - binary_accuracy: 0.5960\n",
      "Epoch 20/25\n",
      "82/82 [==============================] - 0s 747us/step - loss: 0.2341 - binary_accuracy: 0.6203\n",
      "Epoch 21/25\n",
      "82/82 [==============================] - 0s 908us/step - loss: 0.2323 - binary_accuracy: 0.6325\n",
      "Epoch 22/25\n",
      "82/82 [==============================] - 0s 1ms/step - loss: 0.2324 - binary_accuracy: 0.6304\n",
      "Epoch 23/25\n",
      "82/82 [==============================] - 0s 975us/step - loss: 0.2320 - binary_accuracy: 0.6373\n",
      "Epoch 24/25\n",
      "82/82 [==============================] - 0s 975us/step - loss: 0.2347 - binary_accuracy: 0.6163\n",
      "Epoch 25/25\n",
      "82/82 [==============================] - 0s 737us/step - loss: 0.2321 - binary_accuracy: 0.6283\n"
     ]
    },
    {
     "data": {
      "text/plain": [
       "<tensorflow.python.keras.callbacks.History at 0x7f4aac04a190>"
      ]
     },
     "execution_count": 14,
     "metadata": {},
     "output_type": "execute_result"
    }
   ],
   "source": [
    "# Model fit\n",
    "model.fit(X_train, y_train, epochs=25)"
   ]
  },
  {
   "cell_type": "markdown",
   "id": "c79762af-12e5-463a-b928-1fd81e6051c9",
   "metadata": {},
   "source": [
    "##### Model accuracy"
   ]
  },
  {
   "cell_type": "code",
   "execution_count": 15,
   "id": "cecce12f-3d95-4578-91c4-1e9dc583f4b5",
   "metadata": {},
   "outputs": [
    {
     "name": "stdout",
     "output_type": "stream",
     "text": [
      "41/41 [==============================] - 0s 515us/step - loss: 0.2330 - binary_accuracy: 0.6166\n",
      "\n",
      "binary_accuracy: 61.66%\n"
     ]
    }
   ],
   "source": [
    "scores = model.evaluate(X_test, y_test)\n",
    "print(\"\\n%s: %.2f%%\" % (model.metrics_names[1], scores[1]*100))"
   ]
  },
  {
   "cell_type": "code",
   "execution_count": 16,
   "id": "e3a9db06-bbcc-4a18-8288-4a512884223b",
   "metadata": {},
   "outputs": [],
   "source": [
    "X_results = X.drop(['Wheelchair', 'U-Shaped_max'], axis = 1)"
   ]
  },
  {
   "cell_type": "code",
   "execution_count": 17,
   "id": "373118fc-0cc7-4a09-ad85-c0bd0900da86",
   "metadata": {},
   "outputs": [
    {
     "data": {
      "text/plain": [
       "Text(0.5, 16.0, 'Predicted label')"
      ]
     },
     "execution_count": 17,
     "metadata": {},
     "output_type": "execute_result"
    },
    {
     "data": {
      "image/png": "[encoded data removed]",
      "text/plain": [
       "<Figure size 432x288 with 2 Axes>"
      ]
     },
     "metadata": {},
     "output_type": "display_data"
    }
   ],
   "source": [
    "y_pred = np.round(model.predict(X_results))\n",
    "\n",
    "cnf_matrix = metrics.confusion_matrix(y, y_pred)\n",
    "p = sns.heatmap(pd.DataFrame(cnf_matrix), annot=True, cmap=\"YlGnBu\" ,fmt='g')\n",
    "plt.title('Confusion matrix', y=1.1)\n",
    "plt.ylabel('Actual label')\n",
    "plt.xlabel('Predicted label')"
   ]
  },
  {
   "cell_type": "code",
   "execution_count": 18,
   "id": "f3061220-b0f7-4c77-ab18-8dbc9eae2de2",
   "metadata": {},
   "outputs": [
    {
     "data": {
      "text/plain": [
       "0    651.666667\n",
       "1    651.666667\n",
       "Name: Wheelchair accessible, dtype: float64"
      ]
     },
     "execution_count": 18,
     "metadata": {},
     "output_type": "execute_result"
    }
   ],
   "source": [
    "df['Wheelchair accessible'].value_counts()/3"
   ]
  },
  {
   "cell_type": "markdown",
   "id": "3d5aa5ee-7ff3-4edb-96e5-2a6050c29b3c",
   "metadata": {},
   "source": [
    "Its score **has achieved the +2/3 requirement** TP 1317, FP 638 (< 651 limit error allowed). "
   ]
  },
  {
   "cell_type": "markdown",
   "id": "b350dbbc-53f3-48b6-b6cc-a1e2c94283a0",
   "metadata": {},
   "source": [
    "Based on:\n",
    "\"[...]at least two-thirds of venues predicted to be without a ramp should not have a ramp.\""
   ]
  },
  {
   "cell_type": "markdown",
   "id": "ab92c2d5-02d7-4f93-bb7c-ce858a914b9e",
   "metadata": {},
   "source": [
    "##### Model saving"
   ]
  },
  {
   "cell_type": "code",
   "execution_count": 19,
   "id": "349cbed5-5d7f-4ccc-ab0e-de1f45cbf74c",
   "metadata": {},
   "outputs": [
    {
     "name": "stdout",
     "output_type": "stream",
     "text": [
      "Modelo Guardado!\n"
     ]
    }
   ],
   "source": [
    "# serializar el modelo a JSON\n",
    "model_json = model.to_json()\n",
    "with open(\"model.json\", \"w\") as json_file:\n",
    "    json_file.write(model_json)\n",
    "# serializar los pesos a HDF5\n",
    "model.save_weights(\"wchair_predictor.h5\")\n",
    "print(\"Modelo Guardado!\")"
   ]
  },
  {
   "cell_type": "markdown",
   "id": "9305b183-1dd8-4137-bbf0-04ab5c704e8a",
   "metadata": {},
   "source": [
    "##### Model testing"
   ]
  },
  {
   "cell_type": "code",
   "execution_count": 24,
   "id": "0f1b392a-4b9d-43e7-84a7-805bebe93988",
   "metadata": {},
   "outputs": [
    {
     "data": {
      "text/html": [
       "<div>\n",
       "<style scoped>\n",
       "    .dataframe tbody tr th:only-of-type {\n",
       "        vertical-align: middle;\n",
       "    }\n",
       "\n",
       "    .dataframe tbody tr th {\n",
       "        vertical-align: top;\n",
       "    }\n",
       "\n",
       "    .dataframe thead th {\n",
       "        text-align: right;\n",
       "    }\n",
       "</style>\n",
       "<table border=\"1\" class=\"dataframe\">\n",
       "  <thead>\n",
       "    <tr style=\"text-align: right;\">\n",
       "      <th></th>\n",
       "      <th>venue_name</th>\n",
       "      <th>Loud music / events</th>\n",
       "      <th>Venue provides alcohol</th>\n",
       "      <th>Wi-Fi</th>\n",
       "      <th>supervenue</th>\n",
       "      <th>U-Shaped_max</th>\n",
       "      <th>max_standing</th>\n",
       "      <th>Theatre_max</th>\n",
       "      <th>Promoted / ticketed events</th>\n",
       "      <th>Wheelchair accessible</th>\n",
       "      <th>prediction</th>\n",
       "    </tr>\n",
       "  </thead>\n",
       "  <tbody>\n",
       "    <tr>\n",
       "      <th>0</th>\n",
       "      <td>techspace aldgate east</td>\n",
       "      <td>0</td>\n",
       "      <td>0</td>\n",
       "      <td>1</td>\n",
       "      <td>0</td>\n",
       "      <td>35.045455</td>\n",
       "      <td>0</td>\n",
       "      <td>112.715867</td>\n",
       "      <td>0</td>\n",
       "      <td>0</td>\n",
       "      <td>0</td>\n",
       "    </tr>\n",
       "    <tr>\n",
       "      <th>1</th>\n",
       "      <td>green rooms hotel</td>\n",
       "      <td>1</td>\n",
       "      <td>1</td>\n",
       "      <td>1</td>\n",
       "      <td>0</td>\n",
       "      <td>40.000000</td>\n",
       "      <td>120</td>\n",
       "      <td>80.000000</td>\n",
       "      <td>1</td>\n",
       "      <td>0</td>\n",
       "      <td>1</td>\n",
       "    </tr>\n",
       "    <tr>\n",
       "      <th>2</th>\n",
       "      <td>148 leadenhall street</td>\n",
       "      <td>0</td>\n",
       "      <td>0</td>\n",
       "      <td>1</td>\n",
       "      <td>0</td>\n",
       "      <td>35.045455</td>\n",
       "      <td>0</td>\n",
       "      <td>112.715867</td>\n",
       "      <td>0</td>\n",
       "      <td>0</td>\n",
       "      <td>0</td>\n",
       "    </tr>\n",
       "    <tr>\n",
       "      <th>3</th>\n",
       "      <td>conway hall</td>\n",
       "      <td>0</td>\n",
       "      <td>0</td>\n",
       "      <td>1</td>\n",
       "      <td>0</td>\n",
       "      <td>35.045455</td>\n",
       "      <td>60</td>\n",
       "      <td>60.000000</td>\n",
       "      <td>0</td>\n",
       "      <td>0</td>\n",
       "      <td>1</td>\n",
       "    </tr>\n",
       "    <tr>\n",
       "      <th>4</th>\n",
       "      <td>gridiron building</td>\n",
       "      <td>0</td>\n",
       "      <td>0</td>\n",
       "      <td>1</td>\n",
       "      <td>0</td>\n",
       "      <td>35.045455</td>\n",
       "      <td>0</td>\n",
       "      <td>112.715867</td>\n",
       "      <td>0</td>\n",
       "      <td>0</td>\n",
       "      <td>0</td>\n",
       "    </tr>\n",
       "    <tr>\n",
       "      <th>...</th>\n",
       "      <td>...</td>\n",
       "      <td>...</td>\n",
       "      <td>...</td>\n",
       "      <td>...</td>\n",
       "      <td>...</td>\n",
       "      <td>...</td>\n",
       "      <td>...</td>\n",
       "      <td>...</td>\n",
       "      <td>...</td>\n",
       "      <td>...</td>\n",
       "      <td>...</td>\n",
       "    </tr>\n",
       "    <tr>\n",
       "      <th>3905</th>\n",
       "      <td>the hurlingham club</td>\n",
       "      <td>1</td>\n",
       "      <td>1</td>\n",
       "      <td>1</td>\n",
       "      <td>0</td>\n",
       "      <td>40.000000</td>\n",
       "      <td>450</td>\n",
       "      <td>450.000000</td>\n",
       "      <td>0</td>\n",
       "      <td>1</td>\n",
       "      <td>1</td>\n",
       "    </tr>\n",
       "    <tr>\n",
       "      <th>3906</th>\n",
       "      <td>landmark - aldgate, london</td>\n",
       "      <td>0</td>\n",
       "      <td>0</td>\n",
       "      <td>1</td>\n",
       "      <td>0</td>\n",
       "      <td>28.000000</td>\n",
       "      <td>0</td>\n",
       "      <td>28.000000</td>\n",
       "      <td>0</td>\n",
       "      <td>1</td>\n",
       "      <td>0</td>\n",
       "    </tr>\n",
       "    <tr>\n",
       "      <th>3907</th>\n",
       "      <td>ortus conference and events venue</td>\n",
       "      <td>0</td>\n",
       "      <td>1</td>\n",
       "      <td>1</td>\n",
       "      <td>0</td>\n",
       "      <td>13.000000</td>\n",
       "      <td>20</td>\n",
       "      <td>20.000000</td>\n",
       "      <td>0</td>\n",
       "      <td>1</td>\n",
       "      <td>1</td>\n",
       "    </tr>\n",
       "    <tr>\n",
       "      <th>3908</th>\n",
       "      <td>30 euston square</td>\n",
       "      <td>0</td>\n",
       "      <td>1</td>\n",
       "      <td>1</td>\n",
       "      <td>0</td>\n",
       "      <td>8.000000</td>\n",
       "      <td>20</td>\n",
       "      <td>20.000000</td>\n",
       "      <td>0</td>\n",
       "      <td>1</td>\n",
       "      <td>1</td>\n",
       "    </tr>\n",
       "    <tr>\n",
       "      <th>3909</th>\n",
       "      <td>broadway house</td>\n",
       "      <td>0</td>\n",
       "      <td>0</td>\n",
       "      <td>1</td>\n",
       "      <td>0</td>\n",
       "      <td>28.000000</td>\n",
       "      <td>0</td>\n",
       "      <td>100.000000</td>\n",
       "      <td>0</td>\n",
       "      <td>1</td>\n",
       "      <td>0</td>\n",
       "    </tr>\n",
       "  </tbody>\n",
       "</table>\n",
       "<p>3910 rows × 11 columns</p>\n",
       "</div>"
      ],
      "text/plain": [
       "                             venue_name  Loud music / events  \\\n",
       "0                techspace aldgate east                    0   \n",
       "1                     green rooms hotel                    1   \n",
       "2                 148 leadenhall street                    0   \n",
       "3                           conway hall                    0   \n",
       "4                     gridiron building                    0   \n",
       "...                                 ...                  ...   \n",
       "3905                the hurlingham club                    1   \n",
       "3906         landmark - aldgate, london                    0   \n",
       "3907  ortus conference and events venue                    0   \n",
       "3908                   30 euston square                    0   \n",
       "3909                     broadway house                    0   \n",
       "\n",
       "      Venue provides alcohol  Wi-Fi  supervenue  U-Shaped_max  max_standing  \\\n",
       "0                          0      1           0     35.045455             0   \n",
       "1                          1      1           0     40.000000           120   \n",
       "2                          0      1           0     35.045455             0   \n",
       "3                          0      1           0     35.045455            60   \n",
       "4                          0      1           0     35.045455             0   \n",
       "...                      ...    ...         ...           ...           ...   \n",
       "3905                       1      1           0     40.000000           450   \n",
       "3906                       0      1           0     28.000000             0   \n",
       "3907                       1      1           0     13.000000            20   \n",
       "3908                       1      1           0      8.000000            20   \n",
       "3909                       0      1           0     28.000000             0   \n",
       "\n",
       "      Theatre_max  Promoted / ticketed events  Wheelchair accessible  \\\n",
       "0      112.715867                           0                      0   \n",
       "1       80.000000                           1                      0   \n",
       "2      112.715867                           0                      0   \n",
       "3       60.000000                           0                      0   \n",
       "4      112.715867                           0                      0   \n",
       "...           ...                         ...                    ...   \n",
       "3905   450.000000                           0                      1   \n",
       "3906    28.000000                           0                      1   \n",
       "3907    20.000000                           0                      1   \n",
       "3908    20.000000                           0                      1   \n",
       "3909   100.000000                           0                      1   \n",
       "\n",
       "      prediction  \n",
       "0              0  \n",
       "1              1  \n",
       "2              0  \n",
       "3              1  \n",
       "4              0  \n",
       "...          ...  \n",
       "3905           1  \n",
       "3906           0  \n",
       "3907           1  \n",
       "3908           1  \n",
       "3909           0  \n",
       "\n",
       "[3910 rows x 11 columns]"
      ]
     },
     "execution_count": 24,
     "metadata": {},
     "output_type": "execute_result"
    }
   ],
   "source": [
    "df['prediction'] = np.round(model.predict(df.drop(['Wheelchair accessible','venue_name','U-Shaped_max'], axis = 1))).astype(int)\n",
    "df"
   ]
  }
 ],
 "metadata": {
  "colab": {
   "name": "Welcome to DataCamp Workspaces.ipynb",
   "provenance": []
  },
  "kernelspec": {
   "display_name": "Python 3 (ipykernel)",
   "language": "python",
   "name": "python3"
  },
  "language_info": {
   "codemirror_mode": {
    "name": "ipython",
    "version": 3
   },
   "file_extension": ".py",
   "mimetype": "text/x-python",
   "name": "python",
   "nbconvert_exporter": "python",
   "pygments_lexer": "ipython3",
   "version": "3.8.10"
  }
 },
 "nbformat": 4,
 "nbformat_minor": 5
}
